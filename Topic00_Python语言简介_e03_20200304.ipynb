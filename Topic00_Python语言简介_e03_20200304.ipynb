{
 "cells": [
  {
   "cell_type": "markdown",
   "metadata": {
    "slideshow": {
     "slide_type": "slide"
    }
   },
   "source": [
    "# <center>专题00 Python语言简介<center>"
   ]
  },
  {
   "cell_type": "markdown",
   "metadata": {
    "slideshow": {
     "slide_type": "slide"
    }
   },
   "source": [
    "<img src=\"./figure/f04da2247c301af63d0815_20190519.jpg\", width=320>\n",
    "\n",
    "<br></br>\n",
    "\n",
    "### <center>Python 是一个高层次的结合了解释性、互动性和面向对象的脚本语言.</center>\n",
    "\n",
    "\n"
   ]
  },
  {
   "cell_type": "markdown",
   "metadata": {
    "slideshow": {
     "slide_type": "slide"
    }
   },
   "source": [
    "\n",
    "### 近年来, 伴随着人工智能和大数据的发展, Python语言迅速普及. \n",
    "### 已经成为了机器学习、数据挖掘与可视化、计算机视觉、自然语言处理的主流开发与实验平台.\n",
    "\n",
    "### 目前比较受程序员青睐. 根据TIOBE的调查,  受欢迎程度排前五:\n",
    "<img src=\"./figure/TIOBE_MAY.4.2019图_截图_20190519.png\", width=640>\n",
    "\n",
    "\n",
    "\n",
    "<br></br>"
   ]
  },
  {
   "cell_type": "markdown",
   "metadata": {
    "slideshow": {
     "slide_type": "slide"
    }
   },
   "source": [
    "# 1. Python 发展历史 "
   ]
  },
  {
   "cell_type": "markdown",
   "metadata": {
    "slideshow": {
     "slide_type": "slide"
    }
   },
   "source": [
    "<img src=\"./figure/10829283-b919aba40fef7acd_Guido van Rossum_20190518.webp\", width=320>\n",
    "\n",
    "\n",
    "### Python 是由 Guido van Rossum 在八十年代末和九十年代初, 在荷兰国家数学和计算机科学研究所工作时设计的.  1989, 为了度过圣诞假期, Guido开始编写Python语言编译器. Python这个名字来自Guido的喜爱的电视连续剧《蒙蒂派森的飞行马戏团》. \n"
   ]
  },
  {
   "cell_type": "markdown",
   "metadata": {
    "slideshow": {
     "slide_type": "slide"
    }
   },
   "source": [
    "### 'python'的英文的书面意译为 '蟒蛇' . \n",
    "\n",
    "### 设计初衷是希望新的语言Python能够满足他在C和Shell之间创建全功能、易学、可扩展的语言的愿景. 借鉴了多种语言的优点, 这包括 ABC、Modula-3、C、C++、Algol-68、SmallTalk、Unix shell 和其他的脚本语言等等. \n",
    "\n",
    "### 像 Perl 语言一样, Python 源代码同样遵循 GPL(GNU General Public License)协议。\n",
    "\n",
    "### 现在 Python 是由一个核心开发团队在维护, Guido van Rossum 仍然占据着至关重要的作用, 指导其进展. (据说2018退出了开发团队)"
   ]
  },
  {
   "cell_type": "markdown",
   "metadata": {
    "slideshow": {
     "slide_type": "slide"
    }
   },
   "source": [
    "\n",
    "### Python的历史版本\n",
    "* #### Python 1.0 - January 1994 增加了 lambda, map, filter 和 reduce 等高级功能.\n",
    "* #### Python 2.0 - October 16, 2000, 加入了内存回收机制，构成了现在Python语言框架的基础\n",
    "* #### Python 2.4 - November 30, 2004, 同年目前最流行的WEB框架Django 诞生\n",
    "* #### Python 2.5 - September 19, 2006\n",
    "* #### Python 2.6 - October 1, 2008\n",
    "* ### <font color=#0000FF>Python 2.7 - July 3, 2010</font>\n",
    "* ### <font color=#0000FF>Python 3.0 - December 3, 2008</font>\n",
    "* #### Python 3.1 - June 27, 2009\n",
    "* #### Python 3.2 - February 20, 2011\n",
    "* #### Python 3.3 - September 29, 2012\n",
    "* #### Python 3.4 - March 16, 2014\n",
    "* #### Python 3.5 - September 13, 2015\n",
    "* #### Python 3.6 - ..."
   ]
  },
  {
   "cell_type": "markdown",
   "metadata": {
    "slideshow": {
     "slide_type": "slide"
    }
   },
   "source": [
    "### Python是一种脚本程序语言(script programming language)\n",
    "\n",
    "#### 所谓脚本其实就是符合程序语言语法格式的文本，存储方式和本文文件('\\*.txt')s是一样的.\n",
    "#### 脚本程序的运行通过解释器对脚本文件当中的代码语句逐行扫描, 逐行执行, 不需要编译成二进制代码.\n",
    "#### Python解析器(即Python.exe)是用低级语言(如C/C++)编写并编译而成的二进制可执行文件. \n",
    "\n",
    "<br></br>\n",
    "\n",
    "\n"
   ]
  },
  {
   "cell_type": "markdown",
   "metadata": {
    "slideshow": {
     "slide_type": "slide"
    }
   },
   "source": [
    "# 2. Python的一些优点\n",
    "\n",
    "* ### <font color=#0000FF>解释型</font>: 开发过程中没有了编译这个环节. 类似于PHP和Perl语言.\n",
    "\n",
    "* ### <font color=#0000FF>交互式</font>: 可以在一个 Python 提示符 >>> 后直接执行代码. 从终端输入执行代码并获得结果的语言，互动的测试和调试代码片断.\n",
    "\n",
    "* ### <font color=#0000FF>面向对象</font>: 这意味着Python支持面向对象的风格或代码封装在对象的编程技术。\n",
    "\n",
    "<!---\n",
    "* ### Python 是初学者的语言: Python 对初级程序员而言, 是一种伟大的语言, 它支持广泛的应用程序开发, 从简单的文字处理到WWW浏览器再到游戏\n",
    "5.互动模式：互动模式的支持，您可以从终端输入执行代码并获得结果的语言，互动的测试和调试代码片断。\n",
    "-->\n",
    "\n",
    "* ### 易于学习：Python有相对较少的关键字，结构简单，和一个明确定义的语法，学习起来更加简单。\n",
    "\n",
    "* ### 易于阅读：Python代码定义的更清晰。\n",
    "\n",
    "* ### 易于维护：Python的成功在于它的源代码是相当容易维护的。\n",
    "\n",
    "* ### 一个广泛的标准库：Python的最大的优势之一是丰富的库(开发工具包)，跨平台的，在UNIX，Windows和Macintosh兼容很好。\n",
    "\n",
    "* ### 可移植：基于其开放源代码的特性，Python已经被移植（也就是使其工作）到许多系统平台。\n",
    "\n",
    "* ### 可扩展：如果你需要一段运行很快的关键代码, 或者是想要编写一些不愿开放的算法, 你可以使用C或C++完成那部分程序, 然后从你的Python程序中调用. \n",
    "\n",
    "* ### 良好的数据库支持：Python提供所有主要的商业数据库的接口。\n",
    "\n",
    "* ### GUI编程：Python支持GUI可以创建和移植到许多系统调用。\n",
    "\n",
    "* ### 可嵌入: 你可以将Python嵌入到C/C++程序，让你的程序的用户获得\"脚本化\"的能力。\n",
    "\n",
    "\n"
   ]
  },
  {
   "cell_type": "markdown",
   "metadata": {
    "slideshow": {
     "slide_type": "skip"
    }
   },
   "source": [
    "<br></br><br></br>"
   ]
  },
  {
   "cell_type": "markdown",
   "metadata": {
    "slideshow": {
     "slide_type": "slide"
    }
   },
   "source": [
    "# 3. Python的一些缺点\n",
    "<br></br>\n",
    "* ### Python 的执行速度不够快\n",
    "\n",
    "* ### 对多处理器支持不好\n",
    "\n",
    "* ### Python 2 与 Python 3 不兼容"
   ]
  },
  {
   "cell_type": "markdown",
   "metadata": {
    "slideshow": {
     "slide_type": "skip"
    }
   },
   "source": [
    "<br></br><br></br>"
   ]
  },
  {
   "cell_type": "markdown",
   "metadata": {
    "slideshow": {
     "slide_type": "slide"
    }
   },
   "source": [
    "# 4. Python在一些大型机构的运用:\n",
    "\n",
    "* ### 谷歌：谷歌应用程序引擎，代码。谷歌。com、Google.、Google爬虫、Google广告和其他项目正在广泛使用Python。\n",
    "\n",
    "* ### CIA：美国中情局网站是用Python开发的\n",
    "\n",
    "* ### NASA：美国航天局广泛使用Python进行数据分析和计算\n",
    "\n",
    "* ### YouTube：世界上最大的视频网站YouTube是用Python开发的。\n",
    "\n",
    "* ### Dropbox：美国最大的在线云存储网站，全部用Python实现，每天处理10亿的文件上传和下载。\n",
    "\n",
    "* ### Instagram：美国最大的照片共享社交网站，每天有3000多万张照片被共享，所有这些都是用Python开发的\n",
    "\n",
    "* ### Facebook：大量的基本库是通过Python实现的\n",
    "\n",
    "* ### RedHat：世界上最流行的Linux发行版中的Yum包管理工具是用Python开发的\n",
    "\n",
    "* ### 豆瓣：几乎所有公司的业务都是通过Python开发的。\n",
    "\n",
    "* ### 知识：中国最大的Q＆A社区，通过Python开发（国外Quora）\n",
    "\n",
    "* ### 除此之外，还有搜狐、金山、腾讯、盛大、网易、百度、阿里、淘宝、土豆、新浪、果壳等公司正在使用Python来完成各种任务。"
   ]
  },
  {
   "cell_type": "markdown",
   "metadata": {
    "slideshow": {
     "slide_type": "skip"
    }
   },
   "source": [
    "<br></br><br></br>"
   ]
  },
  {
   "cell_type": "markdown",
   "metadata": {
    "slideshow": {
     "slide_type": "slide"
    }
   },
   "source": [
    "# 5. Python的主要运用领域有:\n",
    "\n",
    "* ### 云计算: 云计算最热的语言，典型的应用OpenStack\n",
    "\n",
    "* ### WEB开发: 许多优秀的WEB框架，许多大型网站是Python开发、YouTube、Dropbox、Douban……典型的Web框架包括Django\n",
    "\n",
    "* ### 科学运算、人工智能: 典型库NumPy, SciPy, Matplotlib, Enthought librarys, pandas\n",
    "\n",
    "* ### 系统操作和维护: 操作和维护人员的基本语言, 可替代Shell和bash, 支持正则化表达式.\n",
    "\n",
    "* ### 金融: 定量交易、金融分析，在金融工程领域，Python不仅使用最多，而且使用最多，其重要性逐年增加。\n",
    "\n",
    "* ### 图形GUI: PyQT，WXPython，TkInter"
   ]
  },
  {
   "cell_type": "markdown",
   "metadata": {
    "slideshow": {
     "slide_type": "skip"
    }
   },
   "source": [
    "<br></br><br></br>"
   ]
  },
  {
   "cell_type": "markdown",
   "metadata": {
    "slideshow": {
     "slide_type": "slide"
    }
   },
   "source": [
    "# 参考列表\n",
    "### [1] https://www.runoob.com/python/python-intro.html\n",
    "### [2] https://baijiahao.baidu.com/s?id=1619012068167753210&wfr=spider&for=pc\n",
    "### [3] TIOBE 编程语言受欢迎程度: https://www.tiobe.com/tiobe-index/"
   ]
  }
 ],
 "metadata": {
  "kernelspec": {
   "display_name": "Python 3",
   "language": "python",
   "name": "python3"
  },
  "language_info": {
   "codemirror_mode": {
    "name": "ipython",
    "version": 3
   },
   "file_extension": ".py",
   "mimetype": "text/x-python",
   "name": "python",
   "nbconvert_exporter": "python",
   "pygments_lexer": "ipython3",
   "version": "3.6.4"
  }
 },
 "nbformat": 4,
 "nbformat_minor": 1
}
