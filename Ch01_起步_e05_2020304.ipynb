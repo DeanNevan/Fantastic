{
 "cells": [
  {
   "cell_type": "markdown",
   "metadata": {
    "collapsed": true
   },
   "source": [
    "# <center>**第1章: 起步**<center>"
   ]
  },
  {
   "cell_type": "markdown",
   "metadata": {
    "collapsed": true
   },
   "source": [
    "\n",
    "# 1.1　搭建编程环境 \n",
    "\n"
   ]
  },
  {
   "cell_type": "markdown",
   "metadata": {},
   "source": [
    "## 1.1.1　Python 2和Python 3\n",
    "<br/></br>\n",
    "* \n",
    "### 存在重大差别,语法与解释器都不完全兼容\n",
    "* \n",
    "### Python 2是历史版本, 不再发展.\n",
    "* \n",
    "### Python 3是未来发展趋势\n",
    "* \n",
    "### 本课程选用Python 3\n",
    "\n",
    "<br/></br><br/></br>"
   ]
  },
  {
   "cell_type": "markdown",
   "metadata": {},
   "source": [
    "## 1.1.2　运行Python代码片段 \n",
    "### 可以在终端运行解释器后运行输入的代码片段\n",
    "<img src=\"./figure/1.1.2终端解析器运行代码段_20190225.bmp\", width=480, heigth=360> "
   ]
  },
  {
   "cell_type": "markdown",
   "metadata": {},
   "source": [
    "## 1.1.3　在Jupyter-notebook上运行代码段"
   ]
  },
  {
   "cell_type": "code",
   "execution_count": 2,
   "metadata": {
    "scrolled": true
   },
   "outputs": [
    {
     "name": "stdout",
     "output_type": "stream",
     "text": [
      "Hello world!\n"
     ]
    }
   ],
   "source": [
    "print(\"Hello world!\")"
   ]
  },
  {
   "cell_type": "markdown",
   "metadata": {},
   "source": [
    "\n",
    "<br/></br><br/></br>"
   ]
  },
  {
   "cell_type": "markdown",
   "metadata": {},
   "source": [
    "# 1.2　在不同操作系统中搭建Python编程环境"
   ]
  },
  {
   "cell_type": "markdown",
   "metadata": {},
   "source": [
    "* \n",
    "### 建议采用科学计算集成平台Anaconda3 \n",
    "* \n",
    "### 关于编辑器, 有: Sublime text 3, Visual Studio Code; PyCharm; geany; Notepad++; gedit\n",
    "* \n",
    "### 选择编辑器看个人喜好和习惯. (推荐Visual Studio Code; Notepad++; gedit )\n",
    "\n",
    "<br/></br><br/></br>"
   ]
  },
  {
   "cell_type": "markdown",
   "metadata": {},
   "source": [
    "## 1.2.1　在Linux系统中搭建Python编程环境 \n",
    "* \n",
    "### 系统一般内置有Python 3和Python 2, 大多数默认版本是Python 2.7.x\n",
    "* \n",
    "### 可用以下命令查看具体Python 3和Python 2的版本.\n",
    "#### &ensp;&ensp;&ensp;&ensp;   python3 --version \n",
    "#### &ensp;&ensp;&ensp;&ensp;   python2 --version \n",
    "\n",
    "<br/></br>\n",
    "* \n",
    "### 可切换系统的默认版本.\n",
    "<br/></br>"
   ]
  },
  {
   "cell_type": "code",
   "execution_count": 4,
   "metadata": {},
   "outputs": [
    {
     "name": "stderr",
     "output_type": "stream",
     "text": [
      "Python 3.6.4 :: Anaconda, Inc.\n"
     ]
    }
   ],
   "source": [
    "!python --version"
   ]
  },
  {
   "cell_type": "markdown",
   "metadata": {},
   "source": [
    "## 1.2.2　在OS X系统中搭建Python编程环境 (略)\n",
    "## 1.2.3　在Windows系统中搭建Python编程环境 (略)\n",
    "\n"
   ]
  },
  {
   "cell_type": "markdown",
   "metadata": {},
   "source": [
    "# 1.3　解决安装问题 12 (略)\n"
   ]
  },
  {
   "cell_type": "markdown",
   "metadata": {},
   "source": [
    "# 1.4　从终端运行Python程序\n",
    "\n",
    "### 运行Python解释Hello World程序\n",
    "<img src=\"./figure/1.1.3 hello_world_code_20200304.bmp\", width=480, heigth=360> \n",
    "<img src=\"./figure/1.1.3 hello_world_run_20200304.bmp\", width=480, heigth=360> "
   ]
  },
  {
   "cell_type": "markdown",
   "metadata": {},
   "source": [
    "* \n",
    "### 既可以在IDE里调用python解释器运行, 也可以从终端运行.\n",
    "* \n",
    "### 从终端运行时,python解释器对给定的'py文件'逐行解释.\n",
    "* \n",
    "### 另外, 常用终端命令要熟悉: cd, dir, ls等.\n",
    "\n",
    "\n",
    "<br/></br><br/></br>"
   ]
  },
  {
   "cell_type": "markdown",
   "metadata": {},
   "source": [
    "# 1.5　小结"
   ]
  }
 ],
 "metadata": {
  "kernelspec": {
   "display_name": "Python 3",
   "language": "python",
   "name": "python3"
  },
  "language_info": {
   "codemirror_mode": {
    "name": "ipython",
    "version": 3
   },
   "file_extension": ".py",
   "mimetype": "text/x-python",
   "name": "python",
   "nbconvert_exporter": "python",
   "pygments_lexer": "ipython3",
   "version": "3.6.4"
  }
 },
 "nbformat": 4,
 "nbformat_minor": 1
}
